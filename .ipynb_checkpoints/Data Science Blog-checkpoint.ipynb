{
 "cells": [
  {
   "cell_type": "markdown",
   "metadata": {},
   "source": [
    "# Using AirBnB data to analyze the market in Seattle\n",
    "I did the analysis from the point of view of a Seattle homeowner. The main objective of a Seattle homeowner would be to maximize revenues by attracting customers willing to pay high prices. This results in the following qustions:\n",
    "\n",
    "### 1. Business Questions\n",
    "\n",
    "#### 1.1 What drives higher ratings ?\n",
    "\n",
    "#### 1.2 Where are the highest prices for rentals ?\n",
    "\n",
    "#### 1.3 When are the highest prices for rentals ?"
   ]
  },
  {
   "cell_type": "markdown",
   "metadata": {},
   "source": [
    "### 2. Data Understanding\n",
    "\n",
    "#### 2.1 Retrieve Data"
   ]
  },
  {
   "cell_type": "code",
   "execution_count": 39,
   "metadata": {},
   "outputs": [],
   "source": [
    "import numpy as np\n",
    "import pandas as pd\n",
    "import matplotlib.pyplot as plt\n",
    "from IPython import display\n",
    "import collections\n",
    "from itertools import chain\n",
    "import sklearn\n",
    "from time import time\n",
    "from sklearn.model_selection import train_test_split\n",
    "from sklearn.preprocessing import Imputer\n",
    "from sklearn.preprocessing import StandardScaler\n",
    "from sklearn.metrics import mean_squared_error\n",
    "from sklearn.linear_model import LinearRegression\n",
    "from sklearn.tree import DecisionTreeRegressor\n",
    "%matplotlib inline"
   ]
  },
  {
   "cell_type": "code",
   "execution_count": 9,
   "metadata": {},
   "outputs": [],
   "source": [
    "df_listings = pd.read_csv(\"data/listings.csv\")\n",
    "df_calendar = pd.read_csv(\"data/calendar.csv\")\n",
    "df_reviews = pd.read_csv(\"data/reviews.csv\")"
   ]
  },
  {
   "cell_type": "markdown",
   "metadata": {},
   "source": [
    "#### 2.2 Overview and Exploration"
   ]
  },
  {
   "cell_type": "code",
   "execution_count": 30,
   "metadata": {},
   "outputs": [],
   "source": [
    "# Set some display options\n",
    "pd.set_option('display.max_rows', 200)\n",
    "pd.set_option('display.max_columns', 200)\n",
    "pd.set_option('display.max_colwidth', 2000)"
   ]
  },
  {
   "cell_type": "code",
   "execution_count": 31,
   "metadata": {},
   "outputs": [
    {
     "name": "stdout",
     "output_type": "stream",
     "text": [
      "(3818, 92)\n",
      "(1393570, 4)\n",
      "(84849, 6)\n"
     ]
    }
   ],
   "source": [
    "# Check number of rows and columns\n",
    "print(df_listings.shape)\n",
    "print(df_calendar.shape)\n",
    "print(df_reviews.shape)"
   ]
  },
  {
   "cell_type": "code",
   "execution_count": 34,
   "metadata": {},
   "outputs": [
    {
     "name": "stdout",
     "output_type": "stream",
     "text": [
      "['id' 'listing_url' 'scrape_id' 'last_scraped' 'name' 'summary' 'space'\n",
      " 'description' 'experiences_offered' 'neighborhood_overview' 'notes'\n",
      " 'transit' 'thumbnail_url' 'medium_url' 'picture_url' 'xl_picture_url'\n",
      " 'host_id' 'host_url' 'host_name' 'host_since' 'host_location'\n",
      " 'host_about' 'host_response_time' 'host_response_rate'\n",
      " 'host_acceptance_rate' 'host_is_superhost' 'host_thumbnail_url'\n",
      " 'host_picture_url' 'host_neighbourhood' 'host_listings_count'\n",
      " 'host_total_listings_count' 'host_verifications' 'host_has_profile_pic'\n",
      " 'host_identity_verified' 'street' 'neighbourhood'\n",
      " 'neighbourhood_cleansed' 'neighbourhood_group_cleansed' 'city' 'state'\n",
      " 'zipcode' 'market' 'smart_location' 'country_code' 'country' 'latitude'\n",
      " 'longitude' 'is_location_exact' 'property_type' 'room_type'\n",
      " 'accommodates' 'bathrooms' 'bedrooms' 'beds' 'bed_type' 'amenities'\n",
      " 'square_feet' 'price' 'weekly_price' 'monthly_price' 'security_deposit'\n",
      " 'cleaning_fee' 'guests_included' 'extra_people' 'minimum_nights'\n",
      " 'maximum_nights' 'calendar_updated' 'has_availability' 'availability_30'\n",
      " 'availability_60' 'availability_90' 'availability_365'\n",
      " 'calendar_last_scraped' 'number_of_reviews' 'first_review' 'last_review'\n",
      " 'review_scores_rating' 'review_scores_accuracy'\n",
      " 'review_scores_cleanliness' 'review_scores_checkin'\n",
      " 'review_scores_communication' 'review_scores_location'\n",
      " 'review_scores_value' 'requires_license' 'license' 'jurisdiction_names'\n",
      " 'instant_bookable' 'cancellation_policy' 'require_guest_profile_picture'\n",
      " 'require_guest_phone_verification' 'calculated_host_listings_count'\n",
      " 'reviews_per_month']\n",
      "['listing_id' 'date' 'available' 'price']\n",
      "['listing_id' 'id' 'date' 'reviewer_id' 'reviewer_name' 'comments']\n"
     ]
    }
   ],
   "source": [
    "# Get column names\n",
    "print(df_listings.columns.values)\n",
    "print(df_calendar.columns.values)\n",
    "print(df_reviews.columns.values)"
   ]
  },
  {
   "cell_type": "code",
   "execution_count": 36,
   "metadata": {},
   "outputs": [
    {
     "data": {
      "text/plain": [
       "license                             1.000000\n",
       "square_feet                         0.974594\n",
       "monthly_price                       0.602672\n",
       "security_deposit                    0.511262\n",
       "weekly_price                        0.473808\n",
       "notes                               0.420639\n",
       "neighborhood_overview               0.270299\n",
       "cleaning_fee                        0.269775\n",
       "transit                             0.244631\n",
       "host_about                          0.224987\n",
       "host_acceptance_rate                0.202462\n",
       "review_scores_accuracy              0.172342\n",
       "review_scores_checkin               0.172342\n",
       "review_scores_value                 0.171818\n",
       "review_scores_location              0.171556\n",
       "review_scores_cleanliness           0.171032\n",
       "review_scores_communication         0.170508\n",
       "review_scores_rating                0.169460\n",
       "reviews_per_month                   0.164222\n",
       "first_review                        0.164222\n",
       "last_review                         0.164222\n",
       "space                               0.149031\n",
       "host_response_time                  0.136983\n",
       "host_response_rate                  0.136983\n",
       "neighbourhood                       0.108958\n",
       "xl_picture_url                      0.083814\n",
       "thumbnail_url                       0.083814\n",
       "medium_url                          0.083814\n",
       "host_neighbourhood                  0.078575\n",
       "summary                             0.046359\n",
       "bathrooms                           0.004191\n",
       "host_location                       0.002095\n",
       "zipcode                             0.001833\n",
       "bedrooms                            0.001572\n",
       "host_identity_verified              0.000524\n",
       "host_has_profile_pic                0.000524\n",
       "host_picture_url                    0.000524\n",
       "host_since                          0.000524\n",
       "host_total_listings_count           0.000524\n",
       "host_listings_count                 0.000524\n",
       "host_thumbnail_url                  0.000524\n",
       "host_name                           0.000524\n",
       "host_is_superhost                   0.000524\n",
       "beds                                0.000262\n",
       "property_type                       0.000262\n",
       "host_verifications                  0.000000\n",
       "host_url                            0.000000\n",
       "host_id                             0.000000\n",
       "picture_url                         0.000000\n",
       "experiences_offered                 0.000000\n",
       "description                         0.000000\n",
       "name                                0.000000\n",
       "last_scraped                        0.000000\n",
       "scrape_id                           0.000000\n",
       "listing_url                         0.000000\n",
       "street                              0.000000\n",
       "latitude                            0.000000\n",
       "neighbourhood_cleansed              0.000000\n",
       "calendar_last_scraped               0.000000\n",
       "calendar_updated                    0.000000\n",
       "has_availability                    0.000000\n",
       "availability_30                     0.000000\n",
       "availability_60                     0.000000\n",
       "availability_90                     0.000000\n",
       "availability_365                    0.000000\n",
       "number_of_reviews                   0.000000\n",
       "minimum_nights                      0.000000\n",
       "requires_license                    0.000000\n",
       "jurisdiction_names                  0.000000\n",
       "instant_bookable                    0.000000\n",
       "cancellation_policy                 0.000000\n",
       "require_guest_profile_picture       0.000000\n",
       "require_guest_phone_verification    0.000000\n",
       "maximum_nights                      0.000000\n",
       "extra_people                        0.000000\n",
       "neighbourhood_group_cleansed        0.000000\n",
       "calculated_host_listings_count      0.000000\n",
       "city                                0.000000\n",
       "state                               0.000000\n",
       "market                              0.000000\n",
       "smart_location                      0.000000\n",
       "country_code                        0.000000\n",
       "country                             0.000000\n",
       "longitude                           0.000000\n",
       "guests_included                     0.000000\n",
       "is_location_exact                   0.000000\n",
       "room_type                           0.000000\n",
       "accommodates                        0.000000\n",
       "bed_type                            0.000000\n",
       "amenities                           0.000000\n",
       "price                               0.000000\n",
       "id                                  0.000000\n",
       "dtype: float64"
      ]
     },
     "execution_count": 36,
     "metadata": {},
     "output_type": "execute_result"
    }
   ],
   "source": [
    "#check for missing values in listings\n",
    "(df_listings.isnull().sum()/len(df_listings)).sort_values(ascending=False)"
   ]
  },
  {
   "cell_type": "code",
   "execution_count": 41,
   "metadata": {},
   "outputs": [
    {
     "data": {
      "text/plain": [
       "count    92.000000\n",
       "mean      0.084893\n",
       "std       0.181492\n",
       "min       0.000000\n",
       "25%       0.000000\n",
       "50%       0.000000\n",
       "75%       0.136983\n",
       "max       1.000000\n",
       "dtype: float64"
      ]
     },
     "execution_count": 41,
     "metadata": {},
     "output_type": "execute_result"
    }
   ],
   "source": [
    "# Distribution of missing values.\n",
    "(df_listings.isnull().sum()/len(df_listings)).describe()"
   ]
  },
  {
   "cell_type": "markdown",
   "metadata": {},
   "source": [
    "There are a number of columns containing missing values. The license column has no values at all.\n",
    "\n",
    "There are no missing values in the price column, perhaps this column can be used instead of weekly and monthly prices. But there seems to be no good substitute for square_feet."
   ]
  },
  {
   "cell_type": "code",
   "execution_count": 47,
   "metadata": {},
   "outputs": [
    {
     "data": {
      "text/html": [
       "<div>\n",
       "<style scoped>\n",
       "    .dataframe tbody tr th:only-of-type {\n",
       "        vertical-align: middle;\n",
       "    }\n",
       "\n",
       "    .dataframe tbody tr th {\n",
       "        vertical-align: top;\n",
       "    }\n",
       "\n",
       "    .dataframe thead th {\n",
       "        text-align: right;\n",
       "    }\n",
       "</style>\n",
       "<table border=\"1\" class=\"dataframe\">\n",
       "  <thead>\n",
       "    <tr style=\"text-align: right;\">\n",
       "      <th></th>\n",
       "      <th>monthly_price</th>\n",
       "      <th>weekly_price</th>\n",
       "      <th>price</th>\n",
       "    </tr>\n",
       "  </thead>\n",
       "  <tbody>\n",
       "    <tr>\n",
       "      <th>0</th>\n",
       "      <td>NaN</td>\n",
       "      <td>NaN</td>\n",
       "      <td>$85.00</td>\n",
       "    </tr>\n",
       "    <tr>\n",
       "      <th>1</th>\n",
       "      <td>$3,000.00</td>\n",
       "      <td>$1,000.00</td>\n",
       "      <td>$150.00</td>\n",
       "    </tr>\n",
       "    <tr>\n",
       "      <th>2</th>\n",
       "      <td>NaN</td>\n",
       "      <td>NaN</td>\n",
       "      <td>$975.00</td>\n",
       "    </tr>\n",
       "    <tr>\n",
       "      <th>3</th>\n",
       "      <td>$2,300.00</td>\n",
       "      <td>$650.00</td>\n",
       "      <td>$100.00</td>\n",
       "    </tr>\n",
       "    <tr>\n",
       "      <th>4</th>\n",
       "      <td>NaN</td>\n",
       "      <td>NaN</td>\n",
       "      <td>$450.00</td>\n",
       "    </tr>\n",
       "    <tr>\n",
       "      <th>5</th>\n",
       "      <td>NaN</td>\n",
       "      <td>$800.00</td>\n",
       "      <td>$120.00</td>\n",
       "    </tr>\n",
       "    <tr>\n",
       "      <th>6</th>\n",
       "      <td>NaN</td>\n",
       "      <td>$575.00</td>\n",
       "      <td>$80.00</td>\n",
       "    </tr>\n",
       "    <tr>\n",
       "      <th>7</th>\n",
       "      <td>NaN</td>\n",
       "      <td>$360.00</td>\n",
       "      <td>$60.00</td>\n",
       "    </tr>\n",
       "    <tr>\n",
       "      <th>8</th>\n",
       "      <td>$1,700.00</td>\n",
       "      <td>$500.00</td>\n",
       "      <td>$90.00</td>\n",
       "    </tr>\n",
       "    <tr>\n",
       "      <th>9</th>\n",
       "      <td>$3,000.00</td>\n",
       "      <td>$1,000.00</td>\n",
       "      <td>$150.00</td>\n",
       "    </tr>\n",
       "  </tbody>\n",
       "</table>\n",
       "</div>"
      ],
      "text/plain": [
       "  monthly_price weekly_price    price\n",
       "0           NaN          NaN   $85.00\n",
       "1     $3,000.00    $1,000.00  $150.00\n",
       "2           NaN          NaN  $975.00\n",
       "3     $2,300.00      $650.00  $100.00\n",
       "4           NaN          NaN  $450.00\n",
       "5           NaN      $800.00  $120.00\n",
       "6           NaN      $575.00   $80.00\n",
       "7           NaN      $360.00   $60.00\n",
       "8     $1,700.00      $500.00   $90.00\n",
       "9     $3,000.00    $1,000.00  $150.00"
      ]
     },
     "execution_count": 47,
     "metadata": {},
     "output_type": "execute_result"
    }
   ],
   "source": [
    "df_listings[['monthly_price', 'weekly_price', 'price']].head(10)"
   ]
  },
  {
   "cell_type": "code",
   "execution_count": 71,
   "metadata": {},
   "outputs": [
    {
     "data": {
      "text/html": [
       "<div>\n",
       "<style scoped>\n",
       "    .dataframe tbody tr th:only-of-type {\n",
       "        vertical-align: middle;\n",
       "    }\n",
       "\n",
       "    .dataframe tbody tr th {\n",
       "        vertical-align: top;\n",
       "    }\n",
       "\n",
       "    .dataframe thead th {\n",
       "        text-align: right;\n",
       "    }\n",
       "</style>\n",
       "<table border=\"1\" class=\"dataframe\">\n",
       "  <thead>\n",
       "    <tr style=\"text-align: right;\">\n",
       "      <th></th>\n",
       "      <th>monthly_price</th>\n",
       "      <th>weekly_price</th>\n",
       "      <th>price</th>\n",
       "    </tr>\n",
       "  </thead>\n",
       "  <tbody>\n",
       "    <tr>\n",
       "      <th>monthly_price</th>\n",
       "      <td>1.000000</td>\n",
       "      <td>0.942644</td>\n",
       "      <td>0.873450</td>\n",
       "    </tr>\n",
       "    <tr>\n",
       "      <th>weekly_price</th>\n",
       "      <td>0.942644</td>\n",
       "      <td>1.000000</td>\n",
       "      <td>0.937861</td>\n",
       "    </tr>\n",
       "    <tr>\n",
       "      <th>price</th>\n",
       "      <td>0.873450</td>\n",
       "      <td>0.937861</td>\n",
       "      <td>1.000000</td>\n",
       "    </tr>\n",
       "  </tbody>\n",
       "</table>\n",
       "</div>"
      ],
      "text/plain": [
       "               monthly_price  weekly_price     price\n",
       "monthly_price       1.000000      0.942644  0.873450\n",
       "weekly_price        0.942644      1.000000  0.937861\n",
       "price               0.873450      0.937861  1.000000"
      ]
     },
     "execution_count": 71,
     "metadata": {},
     "output_type": "execute_result"
    }
   ],
   "source": [
    "df_listings[['monthly_price', 'weekly_price', 'price']].replace('[\\$,]','',regex=True).astype(float).corr()"
   ]
  },
  {
   "cell_type": "markdown",
   "metadata": {},
   "source": [
    "The price field seems to indicate a daily price, therefore I will drop the monthly and weekly prices from the dataset due to a large number of missing values. The price field should act as a good substitute."
   ]
  },
  {
   "cell_type": "code",
   "execution_count": 62,
   "metadata": {},
   "outputs": [
    {
     "data": {
      "text/html": [
       "<div>\n",
       "<style scoped>\n",
       "    .dataframe tbody tr th:only-of-type {\n",
       "        vertical-align: middle;\n",
       "    }\n",
       "\n",
       "    .dataframe tbody tr th {\n",
       "        vertical-align: top;\n",
       "    }\n",
       "\n",
       "    .dataframe thead th {\n",
       "        text-align: right;\n",
       "    }\n",
       "</style>\n",
       "<table border=\"1\" class=\"dataframe\">\n",
       "  <thead>\n",
       "    <tr style=\"text-align: right;\">\n",
       "      <th></th>\n",
       "      <th>square_feet</th>\n",
       "      <th>bathrooms</th>\n",
       "      <th>bedrooms</th>\n",
       "      <th>beds</th>\n",
       "    </tr>\n",
       "  </thead>\n",
       "  <tbody>\n",
       "    <tr>\n",
       "      <th>square_feet</th>\n",
       "      <td>1.000000</td>\n",
       "      <td>0.381094</td>\n",
       "      <td>0.448786</td>\n",
       "      <td>0.312155</td>\n",
       "    </tr>\n",
       "    <tr>\n",
       "      <th>bathrooms</th>\n",
       "      <td>0.381094</td>\n",
       "      <td>1.000000</td>\n",
       "      <td>0.418992</td>\n",
       "      <td>0.303472</td>\n",
       "    </tr>\n",
       "    <tr>\n",
       "      <th>bedrooms</th>\n",
       "      <td>0.448786</td>\n",
       "      <td>0.418992</td>\n",
       "      <td>1.000000</td>\n",
       "      <td>0.742920</td>\n",
       "    </tr>\n",
       "    <tr>\n",
       "      <th>beds</th>\n",
       "      <td>0.312155</td>\n",
       "      <td>0.303472</td>\n",
       "      <td>0.742920</td>\n",
       "      <td>1.000000</td>\n",
       "    </tr>\n",
       "  </tbody>\n",
       "</table>\n",
       "</div>"
      ],
      "text/plain": [
       "             square_feet  bathrooms  bedrooms      beds\n",
       "square_feet     1.000000   0.381094  0.448786  0.312155\n",
       "bathrooms       0.381094   1.000000  0.418992  0.303472\n",
       "bedrooms        0.448786   0.418992  1.000000  0.742920\n",
       "beds            0.312155   0.303472  0.742920  1.000000"
      ]
     },
     "execution_count": 62,
     "metadata": {},
     "output_type": "execute_result"
    }
   ],
   "source": [
    "df_listings[df_listings['square_feet'].notnull()][['square_feet', 'bathrooms', 'bedrooms', 'beds']].corr()"
   ]
  },
  {
   "cell_type": "markdown",
   "metadata": {},
   "source": [
    "The bathrooms and bedroom field will be used as substitutes for the mostly missing square_feet field."
   ]
  },
  {
   "cell_type": "code",
   "execution_count": 63,
   "metadata": {},
   "outputs": [
    {
     "data": {
      "text/plain": [
       "price         0.32939\n",
       "available     0.00000\n",
       "date          0.00000\n",
       "listing_id    0.00000\n",
       "dtype: float64"
      ]
     },
     "execution_count": 63,
     "metadata": {},
     "output_type": "execute_result"
    }
   ],
   "source": [
    "(df_calendar.isnull().sum()/len(df_calendar)).sort_values(ascending=False)"
   ]
  },
  {
   "cell_type": "markdown",
   "metadata": {},
   "source": [
    "Again the price column is missing in a lot of rows (32%)."
   ]
  },
  {
   "cell_type": "code",
   "execution_count": 42,
   "metadata": {},
   "outputs": [
    {
     "data": {
      "text/plain": [
       "comments         0.000212\n",
       "reviewer_name    0.000000\n",
       "reviewer_id      0.000000\n",
       "date             0.000000\n",
       "id               0.000000\n",
       "listing_id       0.000000\n",
       "dtype: float64"
      ]
     },
     "execution_count": 42,
     "metadata": {},
     "output_type": "execute_result"
    }
   ],
   "source": [
    "(df_reviews.isnull().sum()/len(df_reviews)).sort_values(ascending=False)"
   ]
  },
  {
   "cell_type": "markdown",
   "metadata": {},
   "source": [
    "There are no missing data for reviews except for a small number of missing comments."
   ]
  },
  {
   "cell_type": "markdown",
   "metadata": {},
   "source": [
    "There are 3 datasets:\n",
    "\n",
    "- listings\n",
    "- calendar\n",
    "- reviews\n",
    "\n",
    "The most relevant dataset for our analysis is the listings dataset. The calendar dataset is relvant for answering the third question about popular times.\n",
    "\n",
    "Since the reviews dataset is mainly unstructured data, we will postpone any analysis."
   ]
  },
  {
   "cell_type": "markdown",
   "metadata": {},
   "source": [
    "#### 2.2 Treatment of missing data"
   ]
  },
  {
   "cell_type": "code",
   "execution_count": null,
   "metadata": {},
   "outputs": [],
   "source": []
  }
 ],
 "metadata": {
  "kernelspec": {
   "display_name": "Python 3",
   "language": "python",
   "name": "python3"
  },
  "language_info": {
   "codemirror_mode": {
    "name": "ipython",
    "version": 3
   },
   "file_extension": ".py",
   "mimetype": "text/x-python",
   "name": "python",
   "nbconvert_exporter": "python",
   "pygments_lexer": "ipython3",
   "version": "3.6.5"
  }
 },
 "nbformat": 4,
 "nbformat_minor": 2
}
